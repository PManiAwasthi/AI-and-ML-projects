{
 "cells": [
  {
   "cell_type": "code",
   "execution_count": 10,
   "metadata": {},
   "outputs": [],
   "source": [
    "#Importing all the libraries which we might need\n",
    "import cv2\n",
    "import imutils\n",
    "import os\n",
    "import numpy as np"
   ]
  },
  {
   "cell_type": "code",
   "execution_count": 11,
   "metadata": {
    "scrolled": true
   },
   "outputs": [],
   "source": [
    "#path of the folder where we will store users dataset for training images\n",
    "path = \"C:\\\\Users\\\\Prakashmani\\\\Downloads\\\\Project 4\\\\train_images\""
   ]
  },
  {
   "cell_type": "code",
   "execution_count": 12,
   "metadata": {},
   "outputs": [],
   "source": [
    "#importing the haarcascade file which is used for face detection\n",
    "face_cascade = cv2.CascadeClassifier(\"haarcascade_frontalface_default.xml\")"
   ]
  },
  {
   "cell_type": "code",
   "execution_count": 16,
   "metadata": {},
   "outputs": [],
   "source": [
    "#to initialise the the camera of the laptop to capture the video\n",
    "cam = cv2.VideoCapture(0)\n",
    "text = \"\"\n",
    "while True:\n",
    "    flag, img = cam.read()\n",
    "    grayImg = cv2.cvtColor(img, cv2.COLOR_BGR2GRAY)\n",
    "    face = face_cascade.detectMultiScale(grayImg,1.3,4)\n",
    "    face = np.asarray(face)\n",
    "    if face.size == 0:\n",
    "        text = \"No Person Detected\"\n",
    "        cv2.putText(img, text, (50,50),cv2.FONT_HERSHEY_SIMPLEX,0.9,(0,0,255),2)\n",
    "    for (x,y,w,h) in face:\n",
    "        cv2.rectangle(img, (x,y), (x+w,y+h), (0,255,0), 2)\n",
    "        text = \"Person Detected\"\n",
    "        cv2.putText(img, text, (50,50),cv2.FONT_HERSHEY_SIMPLEX,0.9,(0,255,0),2)\n",
    "    cv2.imshow(\"Face Detection\",img)\n",
    "    key = cv2.waitKey(10)\n",
    "    if key == 27:\n",
    "        break\n",
    "cam.release()\n",
    "cv2.destroyAllWindows()"
   ]
  }
 ],
 "metadata": {
  "kernelspec": {
   "display_name": "Python 3",
   "language": "python",
   "name": "python3"
  },
  "language_info": {
   "codemirror_mode": {
    "name": "ipython",
    "version": 3
   },
   "file_extension": ".py",
   "mimetype": "text/x-python",
   "name": "python",
   "nbconvert_exporter": "python",
   "pygments_lexer": "ipython3",
   "version": "3.7.7"
  }
 },
 "nbformat": 4,
 "nbformat_minor": 4
}
