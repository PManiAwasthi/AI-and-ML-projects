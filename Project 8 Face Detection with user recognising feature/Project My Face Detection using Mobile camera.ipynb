{
 "cells": [
  {
   "cell_type": "code",
   "execution_count": 1,
   "metadata": {},
   "outputs": [],
   "source": [
    "import urllib.request\n",
    "import cv2\n",
    "import numpy as np\n",
    "import imutils\n",
    "import os"
   ]
  },
  {
   "cell_type": "code",
   "execution_count": 2,
   "metadata": {},
   "outputs": [],
   "source": [
    "face_cascade = cv2.CascadeClassifier('haarcascade_frontalface_default.xml')"
   ]
  },
  {
   "cell_type": "code",
   "execution_count": 3,
   "metadata": {},
   "outputs": [],
   "source": [
    "model = cv2.face.LBPHFaceRecognizer_create()"
   ]
  },
  {
   "cell_type": "code",
   "execution_count": 5,
   "metadata": {},
   "outputs": [],
   "source": [
    "path = 'C:\\\\Users\\\\Prakashmani\\\\Downloads\\\\Project 4'\n",
    "(images, labels, id, name) = ([],[],0,{})"
   ]
  },
  {
   "cell_type": "code",
   "execution_count": 6,
   "metadata": {},
   "outputs": [],
   "source": [
    "for subdir, dirs, files in os.walk(path):\n",
    "    for subdir in dirs:\n",
    "        name[id] = subdir\n",
    "        subjectpath = os.path.join(path,subdir)\n",
    "        for filename in os.listdir(subjectpath):\n",
    "            path1 = subjectpath + '/' +filename\n",
    "            label = id\n",
    "            images.append(cv2.imread(path1,0))\n",
    "            labels.append(int(label))\n",
    "        id+=1"
   ]
  },
  {
   "cell_type": "code",
   "execution_count": 7,
   "metadata": {},
   "outputs": [],
   "source": [
    "width, height = 130,100"
   ]
  },
  {
   "cell_type": "code",
   "execution_count": 8,
   "metadata": {},
   "outputs": [],
   "source": [
    "images, labels = [np.array(lis) for lis in [images, labels]]"
   ]
  },
  {
   "cell_type": "code",
   "execution_count": 9,
   "metadata": {},
   "outputs": [
    {
     "name": "stdout",
     "output_type": "stream",
     "text": [
      "training complete\n"
     ]
    }
   ],
   "source": [
    "model.train(images, labels)\n",
    "print(\"training complete\")"
   ]
  },
  {
   "cell_type": "code",
   "execution_count": null,
   "metadata": {},
   "outputs": [],
   "source": [
    "url = 'http://192.168.43.159:8080/shot.jpg'\n",
    "while True:\n",
    "    imgPath = urllib.request.urlopen(url)\n",
    "    imgNp = np.array(bytearray(imgPath.read()), dtype = np.uint8)\n",
    "    img = cv2.imdecode(imgNp, -1)\n",
    "    img = imutils.resize(img, width = 450)\n",
    "    gray = cv2.cvtColor(img,cv2.COLOR_BGR2GRAY)\n",
    "    faces = face_cascade.detectMultiScale(gray, 1.3, 4)\n",
    "    for x,y,w,h in faces:\n",
    "        face = gray[y:y+h, x:x+w]\n",
    "        face_resize = cv2.resize(face,(width,height))\n",
    "        prediction = model.predict(face_resize)\n",
    "        if prediction[1]<800:\n",
    "            cv2.rectangle(img,(x,y), (x+w,y+h),(0,255,0), 2)\n",
    "            cv2.putText(img, '{} - {}'.format(name[prediction[0]],int(prediction[1])), (x-10, y-10),cv2.FONT_HERSHEY_SIMPLEX, 1, (0,255,0))\n",
    "            cnt = 0\n",
    "        else:\n",
    "            cnt+=1\n",
    "            cv2.rectangle(img,(x,y), (x+w, y+h), (0,0,255),2)\n",
    "            cv2.putText(img, 'unknown',(x-10,y-10),cv2.FONT_HERSHEY_SIMPLEX,1,(0,0,255))\n",
    "            if cvt > 100:\n",
    "                cv2.imwrite(path + '\\\\unknown\\\\input.jpg', img)\n",
    "        \n",
    "    \n",
    "    cv2.imshow(\"Face detection\",img)\n",
    "    key = cv2.waitKey(1)\n",
    "    if key == ord('q'):\n",
    "        exit(0)"
   ]
  },
  {
   "cell_type": "code",
   "execution_count": null,
   "metadata": {},
   "outputs": [],
   "source": []
  }
 ],
 "metadata": {
  "kernelspec": {
   "display_name": "Python 3",
   "language": "python",
   "name": "python3"
  },
  "language_info": {
   "codemirror_mode": {
    "name": "ipython",
    "version": 3
   },
   "file_extension": ".py",
   "mimetype": "text/x-python",
   "name": "python",
   "nbconvert_exporter": "python",
   "pygments_lexer": "ipython3",
   "version": "3.7.7"
  }
 },
 "nbformat": 4,
 "nbformat_minor": 4
}
