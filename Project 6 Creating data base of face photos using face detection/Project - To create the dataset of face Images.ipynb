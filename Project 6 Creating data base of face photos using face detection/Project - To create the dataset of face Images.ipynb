{
 "cells": [
  {
   "cell_type": "code",
   "execution_count": null,
   "metadata": {},
   "outputs": [],
   "source": [
    "#Importing all the libraries which we might need\n",
    "import cv2\n",
    "import imutils\n",
    "import os\n",
    "import numpy as np"
   ]
  },
  {
   "cell_type": "code",
   "execution_count": null,
   "metadata": {},
   "outputs": [],
   "source": [
    "#path of the folder where we will store users dataset for training images\n",
    "path = \"C:\\\\Users\\\\Prakashmani\\\\Downloads\\\\Project 4\\\\train_images"
   ]
  },
  {
   "cell_type": "code",
   "execution_count": null,
   "metadata": {},
   "outputs": [],
   "source": [
    "#importing the haarcascade file which is used for face detection\n",
    "face_cascade = cv2.CascadeClassifier(\"haarcascade_frontalface_default.xml\")"
   ]
  },
  {
   "cell_type": "code",
   "execution_count": null,
   "metadata": {},
   "outputs": [],
   "source": [
    "#block of code to collect the dataset for training_images\n",
    "cam = cv2.VideoCapture(0)\n",
    "\n",
    "face_cascade = cv2.CascadeClassifier(\"haarcascade_frontalface_default.xml\")\n",
    "\n",
    "#main function to create dataset\n",
    "def Create_dataset():\n",
    "    #counter to keep track of no. of images\n",
    "    count = 1\n",
    "    while True:\n",
    "        flag, img = cam.read()\n",
    "        grayImg = cv2.cvtColor(img, cv2.COLOR_BGR2GRAY)\n",
    "        #to detect faces and store its dimensions\n",
    "        face = face_cascade.detectMultiScale(grayImg, 1.3, 4)\n",
    "        #to read those dimensions\n",
    "        for (x,y,w,h) in face:\n",
    "            #to crop the image and store only face\n",
    "            face_train = grayImg[y:y+h,x:x+w]\n",
    "            cv2.imwrite(path+\"/{}.jpg\".format(count), face_train)\n",
    "            count = count + 1\n",
    "        #to end the function execution after 400 images have been stored\n",
    "        if count == 400:\n",
    "            print(\"dataset_collected\")\n",
    "            break\n",
    "        #to break using space key\n",
    "        if cv2.waitKey(1) == 13:\n",
    "            break\n",
    "    cam.release()\n",
    "    cv2.destroyAllWindows()\n",
    "Create_dataset()\n"
   ]
  }
 ],
 "metadata": {
  "kernelspec": {
   "display_name": "Python 3",
   "language": "python",
   "name": "python3"
  },
  "language_info": {
   "codemirror_mode": {
    "name": "ipython",
    "version": 3
   },
   "file_extension": ".py",
   "mimetype": "text/x-python",
   "name": "python",
   "nbconvert_exporter": "python",
   "pygments_lexer": "ipython3",
   "version": "3.7.7"
  }
 },
 "nbformat": 4,
 "nbformat_minor": 4
}
